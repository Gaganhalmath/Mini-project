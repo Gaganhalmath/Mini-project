{
  "nbformat": 4,
  "nbformat_minor": 0,
  "metadata": {
    "colab": {
      "provenance": [],
      "authorship_tag": "ABX9TyPbkK6TmZsmGpl6oPZQ91ia",
      "include_colab_link": true
    },
    "kernelspec": {
      "name": "python3",
      "display_name": "Python 3"
    },
    "language_info": {
      "name": "python"
    }
  },
  "cells": [
    {
      "cell_type": "markdown",
      "metadata": {
        "id": "view-in-github",
        "colab_type": "text"
      },
      "source": [
        "<a href=\"https://colab.research.google.com/github/Gaganhalmath/Mini-project/blob/main/Password%20manager.ipynb\" target=\"_parent\"><img src=\"https://colab.research.google.com/assets/colab-badge.svg\" alt=\"Open In Colab\"/></a>"
      ]
    },
    {
      "cell_type": "code",
      "execution_count": 2,
      "metadata": {
        "id": "o8ot5wpC7VVx",
        "colab": {
          "base_uri": "https://localhost:8080/"
        },
        "outputId": "54daf1a9-4aac-451c-96de-5302a10009e7"
      },
      "outputs": [
        {
          "output_type": "stream",
          "name": "stdout",
          "text": [
            "Enter your nAme :\n",
            "Gagan\n",
            "Enter your roll:\n",
            "20\n",
            "Gagan\n",
            "20\n"
          ]
        }
      ],
      "source": [
        "print(('Enter your nAme :'))\n",
        "name=input()\n",
        "print(('Enter your roll:'))\n",
        "roll=input()\n",
        "print(name)\n",
        "print(roll)"
      ]
    },
    {
      "cell_type": "code",
      "source": [
        "len('Hiii')"
      ],
      "metadata": {
        "colab": {
          "base_uri": "https://localhost:8080/"
        },
        "id": "awzPFEU-gdiu",
        "outputId": "502cc712-34b1-4b50-f576-bf96b3b20ae0"
      },
      "execution_count": 3,
      "outputs": [
        {
          "output_type": "execute_result",
          "data": {
            "text/plain": [
              "4"
            ]
          },
          "metadata": {},
          "execution_count": 3
        }
      ]
    },
    {
      "cell_type": "code",
      "source": [
        "\n",
        "name=(input('ENter your name: '))\n",
        "\n",
        "if name=='Gagan':\n",
        "  print('HEllo Gagan Enter your password:')\n",
        "  password=(input('ENter password: '))\n",
        "else:\n",
        "  print('Sorry only Gagan is granted permission')\n",
        "if password=='gagan6378':\n",
        "  print('Access Granted, WELCOME')\n",
        "else:\n",
        "    print('Access denied!!!! GO AWAY')\n"
      ],
      "metadata": {
        "colab": {
          "base_uri": "https://localhost:8080/"
        },
        "id": "ov2itgKzNvGZ",
        "outputId": "8f8d1f34-86c8-40a5-cbd7-197f322b423d"
      },
      "execution_count": 31,
      "outputs": [
        {
          "output_type": "stream",
          "name": "stdout",
          "text": [
            "ENter your name: Gagan\n",
            "HEllo Gagan Enter your password:\n",
            "ENter password: yes\n",
            "Access denied!!!! GO AWAY\n"
          ]
        }
      ]
    },
    {
      "cell_type": "code",
      "source": [
        "for n in range (0,20,50):\n",
        "  print(n)"
      ],
      "metadata": {
        "colab": {
          "base_uri": "https://localhost:8080/"
        },
        "id": "dbM7EiA12n7I",
        "outputId": "fa1b36b8-c781-41a6-b342-536e5a2a6b78"
      },
      "execution_count": 7,
      "outputs": [
        {
          "output_type": "stream",
          "name": "stdout",
          "text": [
            "0\n"
          ]
        }
      ]
    }
  ]
}